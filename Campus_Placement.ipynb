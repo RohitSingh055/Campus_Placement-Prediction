{
 "cells": [
  {
   "cell_type": "code",
   "execution_count": null,
   "id": "bad7f93b",
   "metadata": {},
   "outputs": [],
   "source": [
    "import numpy as np \n",
    "import pandas as pd \n",
    "import matplotlib.pyplot as plt\n",
    "import seaborn as sns\n",
    "import sklearn\n",
    "import warnings"
   ]
  },
  {
   "cell_type": "code",
   "execution_count": null,
   "id": "4091c939",
   "metadata": {},
   "outputs": [],
   "source": [
    "data = pd.read_csv(\"Placement_Data_Full_Class.csv\")"
   ]
  },
  {
   "cell_type": "code",
   "execution_count": null,
   "id": "29039b3b",
   "metadata": {},
   "outputs": [],
   "source": [
    "data.head(10)"
   ]
  },
  {
   "cell_type": "code",
   "execution_count": null,
   "id": "1ecaef1d",
   "metadata": {},
   "outputs": [],
   "source": [
    "placement = data.copy()"
   ]
  },
  {
   "cell_type": "code",
   "execution_count": null,
   "id": "f1f1171a",
   "metadata": {},
   "outputs": [],
   "source": [
    "placement.shape"
   ]
  },
  {
   "cell_type": "code",
   "execution_count": null,
   "id": "aa358621",
   "metadata": {},
   "outputs": [],
   "source": [
    "placement.info()"
   ]
  },
  {
   "cell_type": "code",
   "execution_count": null,
   "id": "b8af18d7",
   "metadata": {},
   "outputs": [],
   "source": [
    "placement.dtypes"
   ]
  },
  {
   "cell_type": "code",
   "execution_count": null,
   "id": "1b48f1e2",
   "metadata": {},
   "outputs": [],
   "source": [
    "# To check how many students got placed\n",
    "\n",
    "placement['status'].unique()"
   ]
  },
  {
   "cell_type": "code",
   "execution_count": null,
   "id": "bf5bb200",
   "metadata": {},
   "outputs": [],
   "source": [
    "placement['status'].value_counts()"
   ]
  },
  {
   "cell_type": "markdown",
   "id": "0b9ce322",
   "metadata": {},
   "source": [
    "# NaN Handling"
   ]
  },
  {
   "cell_type": "code",
   "execution_count": null,
   "id": "9dce8e50",
   "metadata": {},
   "outputs": [],
   "source": [
    "placement.isnull().sum()"
   ]
  },
  {
   "cell_type": "code",
   "execution_count": null,
   "id": "29cae1b7",
   "metadata": {},
   "outputs": [],
   "source": [
    "placement['salary'].fillna(value=0 , inplace = True)"
   ]
  },
  {
   "cell_type": "code",
   "execution_count": null,
   "id": "204f19dd",
   "metadata": {},
   "outputs": [],
   "source": [
    "placement.isnull().sum()"
   ]
  },
  {
   "cell_type": "code",
   "execution_count": null,
   "id": "09bb9a91",
   "metadata": {},
   "outputs": [],
   "source": [
    "# Dropping the columns sl_no, ss_b, hsc_b because they contain redundant values which do not contribute in our model.\n",
    "\n",
    "\n",
    "placement.drop(['sl_no','ssc_b','hsc_b'], axis = 1 , inplace = True)"
   ]
  },
  {
   "cell_type": "code",
   "execution_count": null,
   "id": "311ca0ac",
   "metadata": {},
   "outputs": [],
   "source": [
    "placement.head()"
   ]
  },
  {
   "cell_type": "markdown",
   "id": "78255372",
   "metadata": {},
   "source": [
    "# Outlier Handling"
   ]
  },
  {
   "cell_type": "code",
   "execution_count": null,
   "id": "7f9114d6",
   "metadata": {},
   "outputs": [],
   "source": [
    "plt.figure(figsize = (15,10))\n",
    "\n",
    "ax = plt.subplot(221)\n",
    "plt.boxplot(placement['ssc_p'])\n",
    "ax.set_title('Secondary School Percentage')\n",
    "\n",
    "ax = plt.subplot(222)\n",
    "plt.boxplot(placement['hsc_p'])\n",
    "ax.set_title('Higher Secondary Percentage')\n",
    "\n",
    "ax = plt.subplot(223)\n",
    "plt.boxplot(placement['degree_p'])\n",
    "ax.set_title('UG Percentage')\n",
    "\n",
    "ax = plt.subplot(224)\n",
    "plt.boxplot(placement['etest_p'])\n",
    "ax.set_title('Employability Percentage')"
   ]
  },
  {
   "cell_type": "code",
   "execution_count": null,
   "id": "d3c86bea",
   "metadata": {},
   "outputs": [],
   "source": [
    "Q1 = placement['hsc_p'].quantile(0.25)\n",
    "Q3 = placement['hsc_p'].quantile(0.75)\n",
    "\n",
    "IQR = Q3-Q1\n",
    "\n",
    "filter = (placement['hsc_p']>= Q1 - 1.5 * IQR) & (placement['hsc_p']<= Q3+ 1.5*IQR)\n",
    "placement_filtered = placement.loc[filter]"
   ]
  },
  {
   "cell_type": "code",
   "execution_count": null,
   "id": "07dfb27e",
   "metadata": {},
   "outputs": [],
   "source": [
    "plt.boxplot(placement_filtered['hsc_p'])"
   ]
  },
  {
   "cell_type": "code",
   "execution_count": null,
   "id": "f931aec9",
   "metadata": {},
   "outputs": [],
   "source": [
    "Q1 = placement['degree_p'].quantile(0.25)\n",
    "Q3 = placement['degree_p'].quantile(0.75)\n",
    "IQR = Q3 - Q1\n",
    "\n",
    "filter = (placement['degree_p'] >= Q1 - 1.5 * IQR) & (placement['degree_p']<= Q3+ 1.5*IQR)\n",
    "placement_filtered= data.loc[filter]"
   ]
  },
  {
   "cell_type": "code",
   "execution_count": null,
   "id": "3428e96e",
   "metadata": {},
   "outputs": [],
   "source": [
    "plt.boxplot(placement_filtered['degree_p'])"
   ]
  },
  {
   "cell_type": "markdown",
   "id": "9799ddca",
   "metadata": {},
   "source": [
    "#  Data Visualization"
   ]
  },
  {
   "cell_type": "code",
   "execution_count": null,
   "id": "d39577c9",
   "metadata": {},
   "outputs": [],
   "source": [
    "plt.figure(figsize = (15,7))\n",
    "\n",
    "plt.subplot(231)\n",
    "ax = sns.countplot(x= 'gender' , data = placement_filtered, palette = \"flare\")\n",
    "\n",
    "plt.subplot(232)\n",
    "ax = sns.countplot(x= 'hsc_s' , data = placement_filtered, palette = \"flare\")\n",
    "\n",
    "plt.subplot(233)\n",
    "ax = sns.countplot(x= 'degree_t' , data = placement_filtered, palette = \"flare\")\n",
    "\n",
    "plt.subplot(234)\n",
    "ax = sns.countplot(x= 'specialisation' , data = placement_filtered, palette = \"flare\")\n",
    "\n",
    "plt.subplot(235)\n",
    "ax = sns.countplot(x= 'workex' , data = placement_filtered, palette = \"flare\")\n",
    "\n",
    "plt.subplot(236)\n",
    "ax = sns.countplot(x= 'status' , data = placement_filtered, palette = \"flare\")"
   ]
  },
  {
   "cell_type": "code",
   "execution_count": null,
   "id": "4ac86820",
   "metadata": {},
   "outputs": [],
   "source": [
    "warnings.filterwarnings('ignore')"
   ]
  },
  {
   "cell_type": "code",
   "execution_count": null,
   "id": "d052566e",
   "metadata": {},
   "outputs": [],
   "source": [
    "placement_placed = placement_filtered[placement_filtered.salary!= 0]\n",
    "sns.distplot(placement_placed['salary'])"
   ]
  },
  {
   "cell_type": "markdown",
   "id": "c1d4ff97",
   "metadata": {},
   "source": [
    "# Visualizing which stream placed the higher number of students."
   ]
  },
  {
   "cell_type": "code",
   "execution_count": null,
   "id": "935a0c12",
   "metadata": {},
   "outputs": [],
   "source": [
    "import plotly.express as px\n",
    "\n",
    "fig = px.histogram(data_frame = data,\n",
    "             x = \"degree_t\",\n",
    "             color=\"status\", title=\"<b>Counts of Stream</b>\",\n",
    "             pattern_shape_sequence=['x'],\n",
    "             template='plotly_dark')\n",
    "\n",
    "fig.update_layout(title_x = 0.5,\n",
    "                  title_font = dict(size = 20),\n",
    "                  uniformtext_minsize = 15)\n",
    "\n",
    "\n",
    "fig.show()"
   ]
  },
  {
   "cell_type": "markdown",
   "id": "5e80e6b2",
   "metadata": {},
   "source": [
    "# Encoding the Categorical Columns"
   ]
  },
  {
   "cell_type": "code",
   "execution_count": null,
   "id": "4609c8e6",
   "metadata": {},
   "outputs": [],
   "source": [
    "#Label Encoding\n",
    "\n",
    "from sklearn.preprocessing import LabelEncoder\n",
    "\n",
    "object_cols= ['gender','workex','specialisation','status']\n",
    "\n",
    "label_encoder = LabelEncoder()\n",
    "\n",
    "for col in object_cols:\n",
    "    placement_filtered[col]= label_encoder.fit_transform(placement_filtered[col])\n",
    "    \n",
    "placement_filtered.head(10)"
   ]
  },
  {
   "cell_type": "code",
   "execution_count": null,
   "id": "6b01151b",
   "metadata": {},
   "outputs": [],
   "source": [
    "# One Hot Encoding for stream and degree columns \n",
    "\n",
    "dummy_hsc_s = pd.get_dummies(placement_filtered['hsc_s'], prefix = 'dummy')\n",
    "dummy_degree_t = pd.get_dummies(placement_filtered['degree_t'], prefix = 'dummy')\n",
    "\n",
    "placement_coded = pd.concat([placement_filtered , dummy_hsc_s , dummy_degree_t],axis = 1)\n",
    "placement_coded.drop(['sl_no','ssc_b','hsc_b','hsc_s','degree_t','salary'],axis = 1 , inplace = True)\n",
    "placement_coded.head()\n",
    "\n",
    "#dropping hsc_s(stream), degree_t, salary columns because they consist of redundant values which are of no use."
   ]
  },
  {
   "cell_type": "markdown",
   "id": "8de1cd52",
   "metadata": {},
   "source": [
    "# Stream Wise Analyzing"
   ]
  },
  {
   "cell_type": "code",
   "execution_count": null,
   "id": "2144f210",
   "metadata": {},
   "outputs": [],
   "source": [
    "stream_wise = placement_filtered.groupby('degree_t').agg({'degree_p' :'mean',\n",
    "                                          'workex' : 'sum',                            \n",
    "                                           \"mba_p\":'mean',\n",
    "                                           'status':'sum'})\n",
    "\n",
    "stream_wise.style.highlight_max()"
   ]
  },
  {
   "cell_type": "code",
   "execution_count": null,
   "id": "78dc87ff",
   "metadata": {},
   "outputs": [],
   "source": [
    "px.bar(data_frame=stream_wise, barmode='group',\n",
    "       title = \"<b>Stream wise Analyzing</b>\",template=\"plotly_dark\")"
   ]
  },
  {
   "cell_type": "markdown",
   "id": "92bdc6ee",
   "metadata": {},
   "source": [
    "# Visualizing how many students having their degree percentage above average and below average got placed "
   ]
  },
  {
   "cell_type": "code",
   "execution_count": null,
   "id": "200d0f14",
   "metadata": {},
   "outputs": [],
   "source": [
    "degree_p_above_avg = placement[placement['degree_p'] > placement['degree_p'].mean()]\n",
    "\n",
    "degree_p_above_avg"
   ]
  },
  {
   "cell_type": "code",
   "execution_count": null,
   "id": "a7ffb722",
   "metadata": {},
   "outputs": [],
   "source": [
    "fig = px.histogram(data_frame = degree_p_above_avg,\n",
    "                   x = 'degree_p',\n",
    "                   color='status',\n",
    "                   title = \"<b>Above Average Percentage Vs Placement</b>\",\n",
    "                   template='plotly')\n",
    "\n",
    "fig.update_layout(bargap=0.2)\n",
    "\n",
    "fig.show()"
   ]
  },
  {
   "cell_type": "code",
   "execution_count": null,
   "id": "35ca432d",
   "metadata": {},
   "outputs": [],
   "source": [
    "degree_p_below_avg = placement[placement['degree_p'] < placement['degree_p'].mean()]\n",
    "\n",
    "degree_p_below_avg "
   ]
  },
  {
   "cell_type": "code",
   "execution_count": null,
   "id": "c57e27c4",
   "metadata": {},
   "outputs": [],
   "source": [
    "fig = px.histogram(data_frame = degree_p_below_avg,\n",
    "                   x = 'degree_p',\n",
    "                   color='status',\n",
    "                   title = \"<b>Below Average Percentage Vs Placement</b>\",\n",
    "                   template='plotly')\n",
    "\n",
    "fig.update_layout(bargap=0.2)\n",
    "\n",
    "fig.show()"
   ]
  },
  {
   "cell_type": "markdown",
   "id": "15d397f5",
   "metadata": {},
   "source": [
    "# Store Feature Matrix in X and Response(Target) in y"
   ]
  },
  {
   "cell_type": "code",
   "execution_count": null,
   "id": "768ebddc",
   "metadata": {},
   "outputs": [],
   "source": [
    "placement_coded.columns"
   ]
  },
  {
   "cell_type": "code",
   "execution_count": null,
   "id": "b236fa38",
   "metadata": {},
   "outputs": [],
   "source": [
    "X = placement_coded.drop(['status'],axis=1)\n",
    "y = placement_coded.status"
   ]
  },
  {
   "cell_type": "markdown",
   "id": "3a6f1542",
   "metadata": {},
   "source": [
    "# Splitting the Dataset into training and test set"
   ]
  },
  {
   "cell_type": "code",
   "execution_count": null,
   "id": "d2ce7c54",
   "metadata": {},
   "outputs": [],
   "source": [
    "from sklearn.model_selection import train_test_split\n",
    "X_train, X_test, y_train, y_test = train_test_split(X , y , train_size = 0.8 , random_state = 1)"
   ]
  },
  {
   "cell_type": "markdown",
   "id": "1242490f",
   "metadata": {},
   "source": [
    "# Classification Models"
   ]
  },
  {
   "cell_type": "code",
   "execution_count": null,
   "id": "1e99d4e6",
   "metadata": {},
   "outputs": [],
   "source": [
    "#Decision Tree Classifier\n",
    "\n",
    "from sklearn.tree import DecisionTreeClassifier\n",
    "from sklearn import metrics\n",
    "\n",
    "dt = DecisionTreeClassifier( criterion = 'gini', max_depth = 3)\n",
    "\n",
    "dt = dt.fit(X_train , y_train)\n",
    "y_pred1 = dt.predict(X_test)\n",
    "\n",
    "score1 = metrics.accuracy_score(y_test , y_pred1)\n",
    "print(score1)"
   ]
  },
  {
   "cell_type": "code",
   "execution_count": null,
   "id": "02e88c95",
   "metadata": {},
   "outputs": [],
   "source": [
    "# K Nearest Neighbor\n",
    "\n",
    "from sklearn.neighbors import KNeighborsClassifier\n",
    "\n",
    "knn = KNeighborsClassifier()\n",
    "\n",
    "knn = knn.fit(X_train , y_train)\n",
    "y_pred2 = knn.predict(X_test)\n",
    "\n",
    "score2 = metrics.accuracy_score(y_test , y_pred2)\n",
    "print(score2)"
   ]
  },
  {
   "cell_type": "code",
   "execution_count": null,
   "id": "5942d486",
   "metadata": {},
   "outputs": [],
   "source": [
    "# Logistic Regression\n",
    "\n",
    "from sklearn.linear_model import LogisticRegression\n",
    "\n",
    "logreg = LogisticRegression()\n",
    "\n",
    "logreg.fit(X_train , y_train)\n",
    "\n",
    "y_pred3 = logreg.predict(X_test)\n",
    "\n",
    "score3 = logreg.score(X_test , y_test)\n",
    "print(score3)"
   ]
  },
  {
   "cell_type": "code",
   "execution_count": null,
   "id": "b4c564a5",
   "metadata": {},
   "outputs": [],
   "source": [
    "final_data = pd.DataFrame({'Models':['DT','KNN','LR'],\n",
    "                          'Accuracy':[score1*100,\n",
    "                                    score2*100,\n",
    "                                     score3*100]})"
   ]
  },
  {
   "cell_type": "code",
   "execution_count": null,
   "id": "0d552b39",
   "metadata": {},
   "outputs": [],
   "source": [
    "final_data"
   ]
  },
  {
   "cell_type": "code",
   "execution_count": null,
   "id": "bfb81820",
   "metadata": {},
   "outputs": [],
   "source": [
    "sns.barplot(final_data['Models'],final_data['Accuracy'],palette = \"flare\")"
   ]
  },
  {
   "cell_type": "code",
   "execution_count": null,
   "id": "961fd9c4",
   "metadata": {},
   "outputs": [],
   "source": []
  }
 ],
 "metadata": {
  "kernelspec": {
   "display_name": "Python 3 (ipykernel)",
   "language": "python",
   "name": "python3"
  },
  "language_info": {
   "codemirror_mode": {
    "name": "ipython",
    "version": 3
   },
   "file_extension": ".py",
   "mimetype": "text/x-python",
   "name": "python",
   "nbconvert_exporter": "python",
   "pygments_lexer": "ipython3",
   "version": "3.9.12"
  }
 },
 "nbformat": 4,
 "nbformat_minor": 5
}
